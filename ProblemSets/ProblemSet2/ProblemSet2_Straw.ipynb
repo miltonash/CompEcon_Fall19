{
 "cells": [
  {
   "cell_type": "markdown",
   "metadata": {},
   "source": [
    "# <center><strong>PROBLEM SET 2</strong></center>\n",
    "### <center>Milton Straw --- ECON 815: Topics in Microeconomics --- Fall 2019</center>"
   ]
  },
  {
   "cell_type": "markdown",
   "metadata": {},
   "source": [
    "## 1. The Standard Library"
   ]
  },
  {
   "cell_type": "markdown",
   "metadata": {},
   "source": [
    "## 1.1"
   ]
  },
  {
   "cell_type": "code",
   "execution_count": 2,
   "metadata": {},
   "outputs": [
    {
     "name": "stdout",
     "output_type": "stream",
     "text": [
      "[1, 2, 3, 4, 5, 6, 7, 8, 9, 10]\n"
     ]
    }
   ],
   "source": [
    "# Creating List\n",
    "L = [1, 2, 3, 4, 5, 6, 7, 8, 9, 10]\n",
    "print(L)"
   ]
  },
  {
   "cell_type": "code",
   "execution_count": 6,
   "metadata": {},
   "outputs": [],
   "source": [
    "# Defining average\n",
    "def mean(L):\n",
    "    return sum(L) / len(L)"
   ]
  },
  {
   "cell_type": "code",
   "execution_count": 16,
   "metadata": {},
   "outputs": [
    {
     "name": "stdout",
     "output_type": "stream",
     "text": [
      "Minimum of the list = 1 , Maximum = 10 , and Average = 5.5\n"
     ]
    }
   ],
   "source": [
    "print(\"Minimum of the list =\", min(L), \", Maximum =\", max(L), \", and Average =\", mean(L))"
   ]
  },
  {
   "cell_type": "markdown",
   "metadata": {},
   "source": [
    "## 1.2"
   ]
  },
  {
   "cell_type": "code",
   "execution_count": 77,
   "metadata": {},
   "outputs": [
    {
     "data": {
      "text/plain": [
       "False"
      ]
     },
     "execution_count": 77,
     "metadata": {},
     "output_type": "execute_result"
    }
   ],
   "source": [
    "# Integer\n",
    "int_1 = 1\n",
    "int_2 = int_1\n",
    "int_2 = int_2 + 1\n",
    "int_1 == int_2"
   ]
  },
  {
   "cell_type": "code",
   "execution_count": 38,
   "metadata": {},
   "outputs": [
    {
     "data": {
      "text/plain": [
       "False"
      ]
     },
     "execution_count": 38,
     "metadata": {},
     "output_type": "execute_result"
    }
   ],
   "source": [
    "# String\n",
    "mydog = 'Magnolia'\n",
    "nickname = mydog\n",
    "nickname = 'Nolah'\n",
    "mydog == nickname"
   ]
  },
  {
   "cell_type": "code",
   "execution_count": 46,
   "metadata": {},
   "outputs": [
    {
     "data": {
      "text/plain": [
       "True"
      ]
     },
     "execution_count": 46,
     "metadata": {},
     "output_type": "execute_result"
    }
   ],
   "source": [
    "# List\n",
    "groceries = ['milk', 'bread', 'meat', 'fruit', 'vegetables']\n",
    "shopping = groceries\n",
    "shopping[4] = 'candy'\n",
    "groceries == shopping"
   ]
  },
  {
   "cell_type": "code",
   "execution_count": 81,
   "metadata": {},
   "outputs": [
    {
     "data": {
      "text/plain": [
       "False"
      ]
     },
     "execution_count": 81,
     "metadata": {},
     "output_type": "execute_result"
    }
   ],
   "source": [
    "# Tuple -- adding an item to the list\n",
    "my_tuple_3 = (5, 10, 20, 'm', 'a', 's')\n",
    "my_tuple_4 = my_tuple_3\n",
    "my_tuple_4 += (1,)\n",
    "my_tuple_3 == my_tuple_4"
   ]
  },
  {
   "cell_type": "code",
   "execution_count": 5,
   "metadata": {},
   "outputs": [
    {
     "data": {
      "text/plain": [
       "False"
      ]
     },
     "execution_count": 5,
     "metadata": {},
     "output_type": "execute_result"
    }
   ],
   "source": [
    "# Set\n",
    "set_1 = {3, 2, 1, 'x', 'y', 'z'}\n",
    "set_2 = set_1\n",
    "set_2 = {1, 2, 5, 'x', 'y', 'z'}\n",
    "set_1 == set_2"
   ]
  },
  {
   "cell_type": "markdown",
   "metadata": {},
   "source": [
    "## 1.3"
   ]
  },
  {
   "cell_type": "code",
   "execution_count": 70,
   "metadata": {},
   "outputs": [],
   "source": [
    "import calculator as calc"
   ]
  },
  {
   "cell_type": "code",
   "execution_count": 71,
   "metadata": {},
   "outputs": [],
   "source": [
    "# Triangle\n",
    "a = 10\n",
    "b = 6"
   ]
  },
  {
   "cell_type": "code",
   "execution_count": 72,
   "metadata": {},
   "outputs": [],
   "source": [
    "run calculator"
   ]
  },
  {
   "cell_type": "code",
   "execution_count": 86,
   "metadata": {},
   "outputs": [
    {
     "name": "stdout",
     "output_type": "stream",
     "text": [
      "11.661903789690601\n"
     ]
    }
   ],
   "source": [
    "# Hypotenuse -- a**2 + b**2 = c**2\n",
    "c = sqrt(calc.sum_of_arguments(calc.product_of_arguments(a, a), calc.product_of_arguments(b, b)))\n",
    "print(c)"
   ]
  },
  {
   "cell_type": "markdown",
   "metadata": {},
   "source": [
    "## 2.1"
   ]
  },
  {
   "cell_type": "code",
   "execution_count": 3,
   "metadata": {},
   "outputs": [],
   "source": [
    "import numpy as np"
   ]
  },
  {
   "cell_type": "code",
   "execution_count": 5,
   "metadata": {},
   "outputs": [
    {
     "name": "stdout",
     "output_type": "stream",
     "text": [
      "[[ 3 -1  4]\n",
      " [ 1  5  9]]\n"
     ]
    }
   ],
   "source": [
    "A = np.array([[3, -1, 4], [1, 5, 9]])\n",
    "print(A)"
   ]
  },
  {
   "cell_type": "code",
   "execution_count": 6,
   "metadata": {},
   "outputs": [
    {
     "name": "stdout",
     "output_type": "stream",
     "text": [
      "[[ 2  6 -5  3]\n",
      " [ 5 -8  9  7]\n",
      " [ 9 -3 -2 -3]]\n"
     ]
    }
   ],
   "source": [
    "B = np.array([[2, 6, -5, 3], [5, -8, 9, 7], [9, -3, -2, -3]])\n",
    "print(B)"
   ]
  },
  {
   "cell_type": "code",
   "execution_count": 7,
   "metadata": {},
   "outputs": [
    {
     "data": {
      "text/plain": [
       "array([[ 37,  14, -32, -10],\n",
       "       [108, -61,  22,  11]])"
      ]
     },
     "execution_count": 7,
     "metadata": {},
     "output_type": "execute_result"
    }
   ],
   "source": [
    "np.dot(A, B)"
   ]
  },
  {
   "cell_type": "markdown",
   "metadata": {},
   "source": [
    "## 2.2"
   ]
  },
  {
   "cell_type": "code",
   "execution_count": 94,
   "metadata": {},
   "outputs": [
    {
     "name": "stdout",
     "output_type": "stream",
     "text": [
      "[[ 3  1  4]\n",
      " [ 1  5  9]\n",
      " [-5  3  1]]\n"
     ]
    }
   ],
   "source": [
    "A = np.array([[3, 1, 4], [1, 5, 9], [-5, 3, 1]])\n",
    "print(A)"
   ]
  },
  {
   "cell_type": "code",
   "execution_count": 98,
   "metadata": {},
   "outputs": [
    {
     "data": {
      "text/plain": [
       "array([[0, 0, 0],\n",
       "       [0, 0, 0],\n",
       "       [0, 0, 0]])"
      ]
     },
     "execution_count": 98,
     "metadata": {},
     "output_type": "execute_result"
    }
   ],
   "source": [
    "def afunction():\n",
    "    \n",
    "    return -(A @ A @ A) + (9 * (A @ A)) - (15 * A)\n",
    "afunction()"
   ]
  },
  {
   "cell_type": "markdown",
   "metadata": {},
   "source": [
    "## 2.5"
   ]
  },
  {
   "cell_type": "code",
   "execution_count": 34,
   "metadata": {},
   "outputs": [
    {
     "name": "stdout",
     "output_type": "stream",
     "text": [
      "[[0 2 4]\n",
      " [1 3 5]]\n",
      "[[3 0 0]\n",
      " [3 3 0]\n",
      " [3 3 3]]\n",
      "[[-2  0  0]\n",
      " [ 0 -2  0]\n",
      " [ 0  0 -2]]\n"
     ]
    }
   ],
   "source": [
    "A = np.array([[0, 2, 4], [1, 3, 5]])\n",
    "B = np.array([[3, 0, 0], [3, 3, 0], [3, 3, 3]])\n",
    "C = np.array([[-2, 0, 0], [0, -2, 0], [0, 0, -2]])\n",
    "print(A)\n",
    "print(B)\n",
    "print(C)"
   ]
  },
  {
   "cell_type": "code",
   "execution_count": 54,
   "metadata": {},
   "outputs": [
    {
     "name": "stdout",
     "output_type": "stream",
     "text": [
      "[[ 0.  0.  0.  0.  1.  1.  0.  0.]\n",
      " [ 0.  0.  0.  2.  3.  0.  1.  0.]\n",
      " [ 0.  0.  0.  4.  5.  0.  0.  1.]\n",
      " [ 0.  2.  4.  0.  0.  0.  0.  0.]\n",
      " [ 1.  3.  5.  0.  0.  0.  0.  0.]\n",
      " [ 3.  0.  0.  0.  0. -2.  0.  0.]\n",
      " [ 3.  3.  0.  0.  0.  0. -2.  0.]\n",
      " [ 3.  3.  3.  0.  0.  0.  0. -2.]]\n"
     ]
    }
   ],
   "source": [
    "# np.vstack((np.zeros((3, 3)), A, B))\n",
    "# np.vstack((A.T, np.zeros((2, 2)), np.zeros((3, 2))))\n",
    "# np.vstack((np.eye(3), np.zeros((2, 3)), C))\n",
    "r1 = np.column_stack((np.zeros((3, 3)), A.T, np.eye(3)))\n",
    "r2 = np.column_stack((A, np.zeros((2, 2)), np.zeros((2, 3))))\n",
    "r3 = np.column_stack((B, np.zeros((3, 2)), C))\n",
    "block_matrix = np.concatenate((r1, r2, r3))\n",
    "print(block_matrix)"
   ]
  },
  {
   "cell_type": "markdown",
   "metadata": {},
   "source": [
    "## 3.1"
   ]
  },
  {
   "cell_type": "code",
   "execution_count": 113,
   "metadata": {},
   "outputs": [],
   "source": [
    "class Backpack:\n",
    "    \"\"\"\n",
    "    A Backpack object class. Has a name and a list of contents.\n",
    "    Attributes:\n",
    "        name (str): the name of the backpack's owner.\n",
    "        color (str): the color of the backpack.\n",
    "        max_size (int): the max number of items the backpack can hold.\n",
    "        contents (list): the contents of the backpack.\n",
    "    \"\"\"\n",
    "    def __init__(self, name, color, max_size = 5):           # This function is the constructor.\n",
    "        \"\"\"Set the name and initialize an empty list of contents.\n",
    "        Parameters:\n",
    "            name (str): the name of the backpack's owner.\n",
    "        \"\"\"\n",
    "        self.name = name                # Initialize some attributes.\n",
    "        self.color = color\n",
    "        self.max_size = max_size\n",
    "        self.contents = []\n",
    "        \n",
    "    def put(self, item):\n",
    "        \"\"\"\n",
    "        Add 'item' to the backpack's list of contents.\n",
    "        \n",
    "        Args:\n",
    "            item (str): name of the item being put in the backpack.\n",
    "            \n",
    "        Returns: \n",
    "            contents (list): list of items in the backpack after the addition.\n",
    "        \"\"\"\n",
    "        if len(self.contents) < 5:\n",
    "            self.contents.append(item)\n",
    "        else:\n",
    "            print(\"No Rooms!\")\n",
    "            \n",
    "    def dump(self):\n",
    "        '''\n",
    "        Empties all contents of the backpack.\n",
    "        \n",
    "        Args:\n",
    "            ...:\n",
    "            \n",
    "        Returns:\n",
    "            contents (list): an empty list, after all of the items have been removed from the backpack.\n",
    "        '''\n",
    "        self.contents = []"
   ]
  },
  {
   "cell_type": "code",
   "execution_count": 115,
   "metadata": {},
   "outputs": [
    {
     "name": "stdout",
     "output_type": "stream",
     "text": [
      "Contents: ['pencil', 'pen', 'notebook', 'iPad']\n"
     ]
    }
   ],
   "source": [
    "def test_backpack():\n",
    "    testpack = Backpack(\"Milton\", \"tan\")       # Instantiate the object.\n",
    "    if testpack.name != \"Milton\":                # Test an attribute.\n",
    "        print(\"Backpack.name assigned incorrectly\")\n",
    "    for item in [\"pencil\", \"pen\", \"notebook\", \"iPad\"]:\n",
    "        testpack.put(item)                      # Test a method.\n",
    "    print(\"Contents:\", testpack.contents)\n",
    "test_backpack()"
   ]
  },
  {
   "cell_type": "markdown",
   "metadata": {},
   "source": [
    "## 3.2"
   ]
  },
  {
   "cell_type": "code",
   "execution_count": 119,
   "metadata": {},
   "outputs": [],
   "source": [
    "class Jetpack(Backpack):\n",
    "    '''\n",
    "    A Jetpack is a subclass of a Backpack. It has an additional attribute.\n",
    "    Attributes:\n",
    "        name (str): the name of the jetpack's owner.\n",
    "        color (str): the color of the jetpack.\n",
    "        max_size (int): the max number of items the jetpack can hold.\n",
    "        fuel (int): the amount of fuel in the jetpack.\n",
    "        contents (list): the contents of the jetpack.\n",
    "    '''\n",
    "    def __init__(self, name, color, max_size = 2):            # Override the constructor.\n",
    "        \"\"\"\n",
    "        Change the max_size of the jetpack and add a fuel atrtibute.\n",
    "        \"\"\"\n",
    "        \n",
    "        Backpack.__init__(self, name, color, max_size)\n",
    "        self.fuel = 10\n",
    "        \n",
    "    def fly(self, burn):\n",
    "        '''\n",
    "        Choose how much fuel to burn when flying.\n",
    "        \n",
    "        Args:\n",
    "            burn: the amount of fuel to burn when flying.\n",
    "        \n",
    "        Returns:\n",
    "            fuel: if there current level of fuel is at least as large as the chosen amount to burn,\n",
    "            then fly() will be successful and the remaining fuel after the flight will be returned.\n",
    "            If there is not enough fuel in the jetpack for the amount chosen in fly(), it will print\n",
    "            a message stating that there is \"Not enoufh fuel!\" and the flight will not occur.\n",
    "        '''\n",
    "        if burn > self.fuel:\n",
    "            print(\"Not enough fuel!\")\n",
    "        else:\n",
    "            self.fuel = self.fuel - burn\n",
    "            \n",
    "    def dump(self):\n",
    "        '''\n",
    "        Empties all contents and fuel of the jetpack.\n",
    "        \n",
    "        Args:\n",
    "            ...:\n",
    "            \n",
    "        Returns:\n",
    "            contents: All of the contents and fuel will be removed from the jetpack. It will\n",
    "            return an empty list and set the fuel amount to zero.\n",
    "        '''\n",
    "        self.contents = []\n",
    "        self.fuel = 0"
   ]
  },
  {
   "cell_type": "code",
   "execution_count": 120,
   "metadata": {},
   "outputs": [
    {
     "name": "stdout",
     "output_type": "stream",
     "text": [
      "Fuel Remaining: 5\n"
     ]
    }
   ],
   "source": [
    "def test_jetpack():\n",
    "    testjet = Jetpack(\"Milton\", \"chrome\")       # Instantiate the object.\n",
    "    testjet.fly(5)                      # Test flight!\n",
    "    print(\"Fuel Remaining:\", testjet.fuel)\n",
    "test_jetpack()"
   ]
  }
 ],
 "metadata": {
  "kernelspec": {
   "display_name": "Python 3",
   "language": "python",
   "name": "python3"
  },
  "language_info": {
   "codemirror_mode": {
    "name": "ipython",
    "version": 3
   },
   "file_extension": ".py",
   "mimetype": "text/x-python",
   "name": "python",
   "nbconvert_exporter": "python",
   "pygments_lexer": "ipython3",
   "version": "3.7.3"
  }
 },
 "nbformat": 4,
 "nbformat_minor": 2
}
